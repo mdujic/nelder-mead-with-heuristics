{
 "cells": [
  {
   "cell_type": "code",
   "execution_count": 34,
   "id": "ffddc064",
   "metadata": {},
   "outputs": [],
   "source": [
    "import numpy as np\n",
    "import math\n",
    "from IPython.core.debugger import set_trace\n",
    "import copy\n",
    "\n",
    "lowerBound, upperBound = -5, 10\n",
    "x = np.random.uniform(low=lowerBound, high=upperBound, size=(10,))\n",
    "N = len(x)\n",
    "\n",
    "\n",
    "def f(x):\n",
    "    #Sphere\n",
    "    #Sum = 0\n",
    "    #for i in range(0,N):\n",
    "    #    Sum = Sum + (x[i])**2\n",
    "\n",
    "    #Rosenbrock\n",
    "    #Epsiolon = 10e-7\n",
    "    #Sum = 0\n",
    "    #for i in range(0, N-1):\n",
    "    #    Sum = Sum + 100 * ((x[i])**2 - x[i+1])**2 + (x[i] - 1)**2\n",
    "        \n",
    "    #Ackley\n",
    "    #Epsiolon = 10e-15\n",
    "    Sum1, Sum2 = 0, 0\n",
    "    for i in range(0,N):\n",
    "        Sum1 = Sum1 + (x[i])**2\n",
    "        Sum2 = Sum2 + math.cos(2*math.pi*x[i])\n",
    "    Sum= -20.0*math.exp(-0.2*math.sqrt((1/N)*(Sum1)))-math.exp((1/N) * Sum2) + math.e + 20\n",
    "    return Sum\n",
    "\n",
    "l = [lowerBound for i in range(10)]\n",
    "u = [upperBound for i in range(10)]"
   ]
  },
  {
   "cell_type": "code",
   "execution_count": 35,
   "id": "4616fa37",
   "metadata": {},
   "outputs": [],
   "source": [
    "def _e(index,size):\n",
    "    arr = np.zeros(size)\n",
    "    arr[index] = 1.0\n",
    "    return arr"
   ]
  },
  {
   "cell_type": "code",
   "execution_count": 36,
   "id": "fffaad2b",
   "metadata": {},
   "outputs": [],
   "source": [
    "def Delta(x):\n",
    "    Sum = 0\n",
    "    #no general, only box constraints\n",
    "    for i in range(0,N):\n",
    "        Sum = Sum + max(x[i]-u[i],0) + max(l[i]-x[i], 0)\n",
    "    return Sum"
   ]
  },
  {
   "cell_type": "code",
   "execution_count": 37,
   "id": "2bc26aeb",
   "metadata": {},
   "outputs": [],
   "source": [
    "def better(x,y):\n",
    "    Dx = Delta(x)\n",
    "    Dy = Delta(y)\n",
    "    if(Dx < Dy):\n",
    "        return True\n",
    "    elif(Dx == Dy and f(x) < f(y)):\n",
    "        return True\n",
    "    else:\n",
    "        return False"
   ]
  },
  {
   "cell_type": "code",
   "execution_count": 38,
   "id": "6cffd935",
   "metadata": {},
   "outputs": [],
   "source": [
    "def findExtremes(s):\n",
    "    Ds = np.empty([N+1])\n",
    "    fs = np.empty([N+1])\n",
    "    \n",
    "    for i in range(0, N+1):\n",
    "        Ds[i] = Delta(s[i])\n",
    "        fs[i] = f(s[i])\n",
    "    \n",
    "    arg_b = np.argmin(Ds)\n",
    "    for i in range(0, N+1):\n",
    "        if Ds[i] == Ds[arg_b] and i != arg_b:\n",
    "            if(fs[i] < fs[arg_b]):\n",
    "                arg_b = i;\n",
    "                \n",
    "    arg_w = np.argmax(Ds)\n",
    "    for i in range(0, N+1):\n",
    "        if Ds[i] == Ds[arg_w] and i != arg_w:\n",
    "            if(fs[i] > fs[arg_w]):\n",
    "                arg_w = i;\n",
    "    \n",
    "    #mask the worst to find the second worst\n",
    "    Ds[arg_w] = 0\n",
    "    \n",
    "    arg_sw = np.argmax(Ds)\n",
    "    for i in range(0, N+1):\n",
    "        if Ds[i] == Ds[arg_sw] and i != arg_w:\n",
    "            if(fs[i] > fs[arg_sw]):\n",
    "                arg_sw = i;\n",
    "    \n",
    "    return arg_b,arg_w,arg_sw"
   ]
  },
  {
   "cell_type": "code",
   "execution_count": 39,
   "id": "2ab6e3da",
   "metadata": {},
   "outputs": [],
   "source": [
    "def centroid(s,argWorst):\n",
    "    return np.mean(np.delete(s, argWorst), axis = 0)"
   ]
  },
  {
   "cell_type": "code",
   "execution_count": 40,
   "id": "10ac5834",
   "metadata": {},
   "outputs": [],
   "source": [
    "def SimplexLocalSearch(x,Epsilon,Lambda,M,Alpha=1,Gamma=2,Beta=-0.5):\n",
    "    N = len(x)\n",
    "    s = np.empty([N+1,N])\n",
    "    s[0] = x\n",
    "    for j in range(1,N+1):\n",
    "        s[j] = x + Lambda*(u[j-1]-l[j-1])*_e(j-1,N);\n",
    "    k = 0\n",
    "    \n",
    "    \n",
    "    argBest, argWorst, argSecondWorst = findExtremes(s)\n",
    "    sBest, sWorst, sSecondWorst = s[argBest], s[argWorst], s[argSecondWorst]\n",
    "    #set_trace()\n",
    "    while abs(f(sBest) - f(sWorst)) > Epsilon and k < M and k < 1000:\n",
    "        #set_trace()\n",
    "        #if(k%1000 == 0):print(f(sBest),'\\n')\n",
    "        r = (1+Alpha)*centroid(s,argWorst) - Alpha*sWorst\n",
    "        if(better(sBest,r) and better(r,sSecondWorst)):\n",
    "            s[argWorst] = r\n",
    "        elif(better(r,sBest)):\n",
    "            e = (1+Gamma)*centroid(s,argWorst)-Gamma*sWorst\n",
    "            if(better(e,r)):\n",
    "                s[argWorst] = e\n",
    "            else:\n",
    "                s[argWorst] = r\n",
    "        else:\n",
    "            c = (1+Beta)*centroid(s,argWorst)-Beta*sWorst\n",
    "            if(better(c,sWorst)):\n",
    "                s[argWorst] = c\n",
    "            else:\n",
    "                for j in range(0,N+1):\n",
    "                    s[j] = (s[j] + sBest)/2\n",
    "\n",
    "        #set_trace()\n",
    "        argBest, argWorst, argSecondWorst = findExtremes(s)\n",
    "        sBest, sWorst, sSecondWorst = s[argBest], s[argWorst], s[argSecondWorst]\n",
    "        k = k + 1\n",
    "    #print(f(sBest))\n",
    "    return sBest, k"
   ]
  },
  {
   "cell_type": "code",
   "execution_count": 56,
   "id": "653686bd",
   "metadata": {},
   "outputs": [],
   "source": [
    "def NonTabuSearch(Epsilon,EpsilonApostrophe,Lambda,M, Gamma = 2,Beta=-0.5, R = 10, Sigma = 10e-20):\n",
    "    k = 0\n",
    "    it = 0\n",
    "    x = np.random.uniform(low=lowerBound, high=upperBound, size=(10,))\n",
    "    x, _k = SimplexLocalSearch(x,Epsilon,Lambda,M-k)\n",
    "    k = k + _k\n",
    "    xBest = copy.copy(x)\n",
    "    \n",
    "    y = copy.copy(x)\n",
    "    \n",
    "    \n",
    "    while(k < M):\n",
    "        #set_trace()\n",
    "        for i in range(1, R):\n",
    "            for j in range(1,N):\n",
    "                x[j] = y[j] + Sigma*(u[j] - l[j])\n",
    "            \n",
    "            x, _k = SimplexLocalSearch(x,Epsilon,Lambda,M-k)\n",
    "            k = k + _k\n",
    "            \n",
    "            try: xBest\n",
    "            except NameError: xBest = None\n",
    "            \n",
    "            if xBest is None or f(x) < f(xBest):\n",
    "                print(\"***NEW BEST VALUE*** iteration: \", k, \"| best found value: \", f(x))\n",
    "                xBest, _k = SimplexLocalSearch(x,EpsilonApostrophe,Lambda,M-k)\n",
    "                k = k + _k\n",
    "            \n",
    "            try: xWorst\n",
    "            except NameError: xWorst = None\n",
    "            \n",
    "            if xWorst is None or f(x) < f(xWorst):\n",
    "                xWorst = copy.copy(x)\n",
    "                \n",
    "        y = copy.copy(xWorst)\n",
    "        if( xBest is not None and k//1000 > it):\n",
    "            it = k//1000\n",
    "            print(\"iteration:\", it * 1000, \"| best found value: \", f(xBest))\n",
    "        \n",
    "    return xBest"
   ]
  },
  {
   "cell_type": "code",
   "execution_count": null,
   "id": "4483efe3",
   "metadata": {
    "scrolled": false
   },
   "outputs": [
    {
     "name": "stdout",
     "output_type": "stream",
     "text": [
      "***NEW BEST VALUE*** iteration:  1626 | best found value:  3.552713678800501e-15\n",
      "iteration: 8000 | best found value:  3.552713678800501e-15\n",
      "iteration: 14000 | best found value:  3.552713678800501e-15\n",
      "iteration: 21000 | best found value:  3.552713678800501e-15\n",
      "iteration: 27000 | best found value:  3.552713678800501e-15\n",
      "iteration: 33000 | best found value:  3.552713678800501e-15\n",
      "iteration: 40000 | best found value:  3.552713678800501e-15\n"
     ]
    }
   ],
   "source": [
    "Lambda = 10\n",
    "M = 100000\n",
    "Epsilon = 0\n",
    "#set_trace()\n",
    "EpsilonApostrophe = 0\n",
    "x_best = NonTabuSearch(Epsilon,EpsilonApostrophe,Lambda,M)\n",
    "print(f(x_best))\n",
    "print(x_best)"
   ]
  },
  {
   "cell_type": "code",
   "execution_count": null,
   "id": "809dc6b4",
   "metadata": {},
   "outputs": [],
   "source": []
  },
  {
   "cell_type": "code",
   "execution_count": null,
   "id": "842a6b1d",
   "metadata": {},
   "outputs": [],
   "source": []
  }
 ],
 "metadata": {
  "kernelspec": {
   "display_name": "Python 3 (ipykernel)",
   "language": "python",
   "name": "python3"
  },
  "language_info": {
   "codemirror_mode": {
    "name": "ipython",
    "version": 3
   },
   "file_extension": ".py",
   "mimetype": "text/x-python",
   "name": "python",
   "nbconvert_exporter": "python",
   "pygments_lexer": "ipython3",
   "version": "3.8.10"
  }
 },
 "nbformat": 4,
 "nbformat_minor": 5
}
