{
 "cells": [
  {
   "cell_type": "markdown",
   "id": "d9afc294",
   "metadata": {},
   "source": [
    "# Nelder - Mead with Simulated Annealing"
   ]
  },
  {
   "cell_type": "markdown",
   "id": "3582fa36",
   "metadata": {},
   "source": [
    "## Function and bounds"
   ]
  },
  {
   "cell_type": "code",
   "execution_count": 128,
   "id": "ffddc064",
   "metadata": {},
   "outputs": [],
   "source": []
  },
  {
   "cell_type": "code",
   "execution_count": 134,
   "id": "10ac5834",
   "metadata": {},
   "outputs": [],
   "source": [
    "\n",
    "\n",
    "def SimplexLocalSearch(x,Epsilon,Lambda,Alpha=1,Gamma=2,Beta=-0.5):\n",
    "    N = len(x)\n",
    "    s = np.empty([N+1,N])\n",
    "    s[0] = x\n",
    "    for j in range(1,N+1):\n",
    "        s[j] = x + Lambda*(u[j-1]-l[j-1])*_e(j-1,N);\n",
    "    k = 0\n",
    "    \n",
    "    \n",
    "    argBest, argWorst, argSecondWorst = findExtremes(s)\n",
    "    sBest, sWorst, sSecondWorst = s[argBest], s[argWorst], s[argSecondWorst]\n",
    "    #set_trace()\n",
    "    while abs(f(sBest) - f(sWorst)) > Epsilon and k < 1000:\n",
    "        #set_trace()\n",
    "        #if(k%1000 == 0):print(f(sBest),'\\n')\n",
    "        r = (1+Alpha)*centroid(s,argWorst) - Alpha*sWorst\n",
    "        if(better(sBest,r) and better(r,sSecondWorst)):\n",
    "            s[argWorst] = r\n",
    "        elif(better(r,sBest)):\n",
    "            e = (1+Gamma)*centroid(s,argWorst)-Gamma*sWorst\n",
    "            if(better(e,r)):\n",
    "                s[argWorst] = e\n",
    "            else:\n",
    "                s[argWorst] = r\n",
    "        else:\n",
    "            c = (1+Beta)*centroid(s,argWorst)-Beta*sWorst\n",
    "            if(better(c,sWorst)):\n",
    "                s[argWorst] = c\n",
    "            else:\n",
    "                for j in range(0,N+1):\n",
    "                    s[j] = (s[j] + sBest)/2\n",
    "\n",
    "        #set_trace()\n",
    "        argBest, argWorst, argSecondWorst = findExtremes(s)\n",
    "        sBest, sWorst, sSecondWorst = s[argBest], s[argWorst], s[argSecondWorst]\n",
    "        k = k + 1\n",
    "    #print(f(sBest))\n",
    "    return sBest"
   ]
  },
  {
   "cell_type": "code",
   "execution_count": 139,
   "id": "77f921a2",
   "metadata": {},
   "outputs": [],
   "source": [
    "def SimulatedAnnealing(n_iterations, Epsilon, Lambda, Temperature):\n",
    "    # generate an initial point\n",
    "    best = np.random.uniform(low=lowerBound, high=upperBound, size=(10,))\n",
    "    # evaluate the initial point\n",
    "    best_eval = f(best)\n",
    "    # current working solution\n",
    "    curr, curr_eval = best, best_eval\n",
    "    scores = list()\n",
    "    # run the algorithm\n",
    "    for i in range(n_iterations):\n",
    "        # take a step\n",
    "        candidate = SimplexLocalSearch(best,Epsilon,Lambda)\n",
    "        #set_trace()\n",
    "        # evaluate candidate point\n",
    "        candidate_eval = f(candidate)\n",
    "        # check for new best solution\n",
    "        if candidate_eval < best_eval:\n",
    "            # store new best point\n",
    "            best, best_eval = candidate, candidate_eval\n",
    "            # keep track of scores\n",
    "            scores.append(best_eval)\n",
    "            # report progress\n",
    "            print('>%d f(%s) = %f' % (i, best, best_eval))\n",
    "        # difference between candidate and current point evaluation\n",
    "        diff = candidate_eval - curr_eval\n",
    "        # calculate temperature for current epoch\n",
    "        t = Temperature / float(i + 1)\n",
    "        # calculate metropolis acceptance criterion\n",
    "        metropolis = exp(-diff / t)\n",
    "        # check if we should keep the new point\n",
    "        if diff < 0 or rand() < metropolis:\n",
    "            # store the new current point\n",
    "            curr, curr_eval = candidate, candidate_eval\n",
    "    return [best, best_eval, scores]"
   ]
  },
  {
   "cell_type": "code",
   "execution_count": 140,
   "id": "4483efe3",
   "metadata": {
    "scrolled": false
   },
   "outputs": [
    {
     "name": "stdout",
     "output_type": "stream",
     "text": [
      ">0 f([0.00791441 0.00915905 0.00735692 0.00886399 0.00749866 0.00768305\n",
      " 0.00769601 0.00868387 0.00591542 0.00838657]) = 0.035237\n",
      ">1 f([-4.38820967e-15  1.39749856e-16 -6.41634826e-15 -9.33645307e-16\n",
      " -5.90070324e-15 -5.22990834e-15 -5.18275189e-15 -1.58893542e-15\n",
      " -1.16604784e-14 -2.67048707e-15]) = 0.000000\n",
      ">2 f([-2.94861686e-15 -6.84637095e-16 -3.96268615e-15 -1.22133468e-15\n",
      " -3.70486364e-15 -3.36946619e-15 -3.34588797e-15 -1.54897973e-15\n",
      " -6.58475120e-15 -2.08975556e-15]) = 0.000000\n",
      "Done!\n",
      "f([-2.94861686e-15 -6.84637095e-16 -3.96268615e-15 -1.22133468e-15\n",
      " -3.70486364e-15 -3.36946619e-15 -3.34588797e-15 -1.54897973e-15\n",
      " -6.58475120e-15 -2.08975556e-15]) = 0.000000\n"
     ]
    },
    {
     "data": {
      "image/png": "[encoded data removed]",
      "text/plain": [
       "<Figure size 432x288 with 1 Axes>"
      ]
     },
     "metadata": {
      "needs_background": "light"
     },
     "output_type": "display_data"
    }
   ],
   "source": [
    "Lambda = 100\n",
    "n_iterations = 10\n",
    "Epsilon = 0\n",
    "Temperature = 1000\n",
    "# perform the simulated annealing search\n",
    "best, score, scores = SimulatedAnnealing(n_iterations,Epsilon,Lambda,Temperature)\n",
    "print('Done!')\n",
    "print('f(%s) = %f' % (best, score))\n",
    "# line plot of best scores\n",
    "pyplot.plot(scores, '.-')\n",
    "pyplot.xlabel('Improvement Number')\n",
    "pyplot.ylabel('Evaluation f(x)')\n",
    "pyplot.show()"
   ]
  },
  {
   "cell_type": "code",
   "execution_count": null,
   "id": "809dc6b4",
   "metadata": {},
   "outputs": [],
   "source": []
  },
  {
   "cell_type": "code",
   "execution_count": null,
   "id": "f767639f",
   "metadata": {},
   "outputs": [],
   "source": []
  }
 ],
 "metadata": {
  "kernelspec": {
   "display_name": "Python 3 (ipykernel)",
   "language": "python",
   "name": "python3"
  },
  "language_info": {
   "codemirror_mode": {
    "name": "ipython",
    "version": 3
   },
   "file_extension": ".py",
   "mimetype": "text/x-python",
   "name": "python",
   "nbconvert_exporter": "python",
   "pygments_lexer": "ipython3",
   "version": "3.8.10"
  }
 },
 "nbformat": 4,
 "nbformat_minor": 5
}
