{
 "cells": [
  {
   "cell_type": "code",
   "execution_count": 3,
   "id": "ffddc064",
   "metadata": {},
   "outputs": [],
   "source": [
    "import numpy as np\n",
    "import math\n",
    "from IPython.core.debugger import set_trace\n",
    "\n",
    "lowerBound, upperBound = -30, 30\n",
    "x = np.random.uniform(low=lowerBound, high=upperBound, size=(10,))\n",
    "N = len(x)\n",
    "\n",
    "\n",
    "def f(x):\n",
    "    #Sphere\n",
    "    # x in interval [-30, -30]\n",
    "    #Sum = 0\n",
    "    #for i in range(0,N):\n",
    "    #    Sum = Sum + (x[i])**2\n",
    "\n",
    "    #Rosenbrock\n",
    "    #za epsilon = 10e-30 dao nulu\n",
    "    # x in interval [-30, -30]\n",
    "    Sum = 0\n",
    "    for i in range(0, N-1):\n",
    "        Sum = Sum + 100 * ((x[i])**2 - x[i+1])**2 + (x[i] - 1)**2\n",
    "        \n",
    "    #Ackley\n",
    "    # x in interval [-5, -10]\n",
    "    #Sum1, Sum2 = 0, 0\n",
    "    #for i in range(0,N):\n",
    "    #    Sum1 = Sum1 + (x[i])**2\n",
    "    #    Sum2 = Sum2 + math.cos(2*math.pi*x[i])\n",
    "    #Sum= -20.0*math.exp(-0.2*math.sqrt((1/N)*(Sum1)))-math.exp((1/N) * Sum2) + math.e + 20\n",
    "    return Sum\n",
    "\n",
    "l = [lowerBound for i in range(10)]\n",
    "u = [upperBound for i in range(10)]"
   ]
  },
  {
   "cell_type": "code",
   "execution_count": 4,
   "id": "4616fa37",
   "metadata": {},
   "outputs": [],
   "source": [
    "def _e(index,size):\n",
    "    arr = np.zeros(size)\n",
    "    arr[index] = 1.0\n",
    "    return arr"
   ]
  },
  {
   "cell_type": "code",
   "execution_count": 5,
   "id": "fffaad2b",
   "metadata": {},
   "outputs": [],
   "source": [
    "def Delta(x):\n",
    "    Sum = 0\n",
    "    #no general, only box constraints\n",
    "    for i in range(0,N):\n",
    "        Sum = Sum + max(x[i]-u[i],0) + max(l[i]-x[i], 0)\n",
    "    return Sum"
   ]
  },
  {
   "cell_type": "code",
   "execution_count": 6,
   "id": "2bc26aeb",
   "metadata": {},
   "outputs": [],
   "source": [
    "def better(x,y):\n",
    "    Dx = Delta(x)\n",
    "    Dy = Delta(y)\n",
    "    if(Dx < Dy):\n",
    "        return True\n",
    "    elif(Dx == Dy and f(x) < f(y)):\n",
    "        return True\n",
    "    else:\n",
    "        return False"
   ]
  },
  {
   "cell_type": "code",
   "execution_count": 7,
   "id": "6cffd935",
   "metadata": {},
   "outputs": [],
   "source": [
    "def sortSimplex(s):\n",
    "    for i in range(len(s)):\n",
    "        # Find the minimum element in remaining\n",
    "        # unsorted array\n",
    "        min_idx = i\n",
    "        for j in range(i+1, len(s)):\n",
    "            if better(s[j],s[min_idx]):\n",
    "                min_idx = j\n",
    "        # Swap the found minimum element with\n",
    "        # the first element       \n",
    "        for k in range(0,N):\n",
    "            s[i][k], s[min_idx][k] = s[min_idx][k], s[i][k]\n",
    "    \n",
    "    return s"
   ]
  },
  {
   "cell_type": "code",
   "execution_count": 8,
   "id": "2ab6e3da",
   "metadata": {},
   "outputs": [],
   "source": [
    "def centroid(s,argWorst):\n",
    "    return np.mean(np.delete(s, argWorst), axis = 0)"
   ]
  },
  {
   "cell_type": "code",
   "execution_count": 9,
   "id": "10ac5834",
   "metadata": {},
   "outputs": [],
   "source": [
    "def SimplexLocalSearch(option,x,Epsilon,Lambda,M,Alpha=1,Gamma=2,Beta=-0.5,no_improv_break = 100):\n",
    "    N = len(x)\n",
    "    s = np.empty([N+1,N])\n",
    "    s[0] = x\n",
    "    for j in range(1,N+1):\n",
    "        s[j] = x + Lambda*(u[j-1]-l[j-1])*_e(j-1,N)\n",
    "    \n",
    "    k = 0\n",
    "    \n",
    "    s = sortSimplex(s)\n",
    "    prev_best = f(s[0])\n",
    "    no_improv = 0\n",
    "    while abs(f(s[0]) - f(s[-1])) > Epsilon and k < M:\n",
    "        best = f(s[0])\n",
    "        \n",
    "        # break after no_improv_break iterations with no improvement\n",
    "        #print('...best so far:', best)\n",
    "\n",
    "        if best < prev_best - Epsilon:\n",
    "            no_improv = 0\n",
    "            prev_best = best\n",
    "        else:\n",
    "            no_improv += 1\n",
    "\n",
    "        if no_improv >= no_improv_break:\n",
    "            return s[0],k,s\n",
    "\n",
    "        r = (1+Alpha)*centroid(s,-1) - Alpha*s[-1]\n",
    "        if(better(s[0],r) and better(r,s[-2])):\n",
    "            s[-1] = copy.copy(r)\n",
    "        elif(better(r,s[0])):\n",
    "            e = (1+Gamma)*centroid(s,-1)-Gamma*s[-1]\n",
    "            if(better(e,r)):\n",
    "                s[-1] = copy.copy(e)\n",
    "            else:\n",
    "                s[-1] = copy.copy(r)\n",
    "        else:\n",
    "            c = (1+Beta)*centroid(s,-1)-Beta*s[-1]\n",
    "            if(better(c,s[-1])):\n",
    "                s[-1] = copy.copy(c)\n",
    "            else:\n",
    "                if(option == 1): \n",
    "                    #print(f(s[0]))\n",
    "                    return s[0],k, s\n",
    "                for j in range(0,N+1):\n",
    "                    s[j] = (s[j] + s[0])/2\n",
    "\n",
    "        k = k + 1\n",
    "        s = sortSimplex(s)\n",
    "    return s[0], k, s"
   ]
  },
  {
   "cell_type": "code",
   "execution_count": 10,
   "id": "653686bd",
   "metadata": {},
   "outputs": [],
   "source": [
    "import copy\n",
    "def DirectionalEscape(Epsilon,EpsilonApostrophe,Lambda,M, Gamma = 2,Beta=-0.5):\n",
    "    k = 0\n",
    "    it = 0\n",
    "    \n",
    "    x = np.random.uniform(low=lowerBound, high=upperBound, size=(10,))\n",
    "    N = len(x)\n",
    "    s = np.empty([N+1,N])\n",
    "    s[0] = x\n",
    "    for j in range(1,N+1):\n",
    "        s[j] = x + Lambda*(u[j-1]-l[j-1])*_e(j-1,N)\n",
    "    \n",
    "    while(k < M):\n",
    "        \n",
    "        temp, _k, s = SimplexLocalSearch(1,x,Epsilon,Lambda,M-k)\n",
    "        x = copy.copy(temp)\n",
    "        \n",
    "        k = k + _k\n",
    "        try: xBest\n",
    "        except NameError: xBest = None\n",
    "        \n",
    "        if xBest is None or f(x) < f(xBest):\n",
    "            xBest = copy.copy(x)\n",
    "            temp, _k, _ = SimplexLocalSearch(2,x,EpsilonApostrophe,Lambda,M-k)\n",
    "            if(f(temp) < f(xBest)):\n",
    "                xBest = copy.copy(temp)\n",
    "            k = k + _k\n",
    "            print(\"***NEW BEST VALUE*** iteration: \", k, \"| best found value: \", f(xBest))\n",
    "            \n",
    "        if xBest is not None and k//1000 > it:\n",
    "            it = k//1000\n",
    "            print(\"iteration:\", it * 1000, \"| best found value: \", f(xBest))\n",
    "            \n",
    "            \n",
    "        \n",
    "        try: xWorst\n",
    "        except NameError: xWorst = None\n",
    "        while xWorst is None or better(x,xWorst):\n",
    "            xWorst = copy.copy(x)\n",
    "            \n",
    "            s = sortSimplex(s)\n",
    "            x = Gamma*s[0] + (1-Gamma) * centroid(s,0)\n",
    "            s[0] = copy.copy(x)\n",
    "            s = sortSimplex(s)\n",
    "            \n",
    "            \n",
    "        \n",
    "        \n",
    "    return xBest"
   ]
  },
  {
   "cell_type": "code",
   "execution_count": null,
   "id": "4483efe3",
   "metadata": {
    "scrolled": false
   },
   "outputs": [
    {
     "name": "stdout",
     "output_type": "stream",
     "text": [
      "***NEW BEST VALUE*** iteration:  314 | best found value:  327.4492579882804\n",
      "iteration: 1000 | best found value:  327.4492579882804\n",
      "iteration: 2000 | best found value:  327.4492579882804\n",
      "iteration: 3000 | best found value:  327.4492579882804\n"
     ]
    }
   ],
   "source": [
    "Lambda = 10\n",
    "M = 100000\n",
    "Epsilon = 0\n",
    "#set_trace()\n",
    "EpsilonApostrophe = 0\n",
    "print(DirectionalEscape(Epsilon,EpsilonApostrophe,Lambda,M))"
   ]
  },
  {
   "cell_type": "code",
   "execution_count": null,
   "id": "7d06b6a3",
   "metadata": {},
   "outputs": [],
   "source": []
  },
  {
   "cell_type": "code",
   "execution_count": null,
   "id": "809dc6b4",
   "metadata": {},
   "outputs": [],
   "source": []
  },
  {
   "cell_type": "code",
   "execution_count": null,
   "id": "f767639f",
   "metadata": {},
   "outputs": [],
   "source": []
  }
 ],
 "metadata": {
  "kernelspec": {
   "display_name": "Python 3 (ipykernel)",
   "language": "python",
   "name": "python3"
  },
  "language_info": {
   "codemirror_mode": {
    "name": "ipython",
    "version": 3
   },
   "file_extension": ".py",
   "mimetype": "text/x-python",
   "name": "python",
   "nbconvert_exporter": "python",
   "pygments_lexer": "ipython3",
   "version": "3.8.10"
  }
 },
 "nbformat": 4,
 "nbformat_minor": 5
}
