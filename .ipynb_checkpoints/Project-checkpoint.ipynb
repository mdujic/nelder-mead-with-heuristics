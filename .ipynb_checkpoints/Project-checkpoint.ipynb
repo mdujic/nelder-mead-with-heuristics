{
 "cells": [
  {
   "cell_type": "code",
   "execution_count": 1,
   "id": "ffddc064",
   "metadata": {},
   "outputs": [],
   "source": [
    "import numpy as np\n",
    "import math\n",
    "from IPython.core.debugger import set_trace\n",
    "\n",
    "lowerBound, upperBound = -5, 10\n",
    "x = np.random.uniform(low=lowerBound, high=upperBound, size=(10,))\n",
    "N = len(x)\n",
    "\n",
    "def f(x):\n",
    "    #Sphere\n",
    "    #Sum = 0\n",
    "    #for i in range(0,N):\n",
    "    #    Sum = Sum + (x[i])**2\n",
    "\n",
    "    #Rosenbrock\n",
    "    Sum = 0\n",
    "    for i in range(0, N-1):\n",
    "        Sum = Sum + 100 * ((x[i])**2 - x[i+1])**2 + (x[i] - 1)**2\n",
    "        \n",
    "    #Ackley\n",
    "    #Sum1, Sum2 = 0, 0\n",
    "    #for i in range(0,N):\n",
    "    #    Sum1 = Sum1 + (x[i])**2\n",
    "    #    Sum2 = Sum2 + math.cos(2*math.pi*x[i])\n",
    "    #Sum= -20.0*math.exp(-0.2*math.sqrt((1/N)*(Sum1)))-math.exp((1/N) * Sum2) + math.e + 20\n",
    "    return Sum\n",
    "\n",
    "l = [lowerBound for i in range(10)]\n",
    "u = [upperBound for i in range(10)]"
   ]
  },
  {
   "cell_type": "code",
   "execution_count": 2,
   "id": "4616fa37",
   "metadata": {},
   "outputs": [],
   "source": [
    "def _e(index,size):\n",
    "    arr = np.zeros(size)\n",
    "    arr[index] = 1.0\n",
    "    return arr"
   ]
  },
  {
   "cell_type": "code",
   "execution_count": 3,
   "id": "fffaad2b",
   "metadata": {},
   "outputs": [],
   "source": [
    "def Delta(x):\n",
    "    Sum = 0\n",
    "    #no general, only box constraints\n",
    "    for i in range(0,N):\n",
    "        Sum = Sum + max(x[i]-u[i],0) + max(l[i]-x[i], 0)\n",
    "    return Sum"
   ]
  },
  {
   "cell_type": "code",
   "execution_count": 4,
   "id": "2bc26aeb",
   "metadata": {},
   "outputs": [],
   "source": [
    "def better(x,y):\n",
    "    Dx = Delta(x)\n",
    "    Dy = Delta(y)\n",
    "    if(Dx < Dy):\n",
    "        return True\n",
    "    elif(Dx == Dy and f(x) < f(y)):\n",
    "        return True\n",
    "    else:\n",
    "        return False"
   ]
  },
  {
   "cell_type": "code",
   "execution_count": 5,
   "id": "6cffd935",
   "metadata": {},
   "outputs": [],
   "source": [
    "def findExtremes(s):\n",
    "    Ds = np.empty([N+1])\n",
    "    fs = np.empty([N+1])\n",
    "    \n",
    "    for i in range(0, N+1):\n",
    "        Ds[i] = Delta(s[i])\n",
    "        fs[i] = f(s[i])\n",
    "    \n",
    "    arg_b = np.argmin(Ds)\n",
    "    for i in range(0, N+1):\n",
    "        if Ds[i] == Ds[arg_b] and i != arg_b:\n",
    "            if(fs[i] < fs[arg_b]):\n",
    "                arg_b = i;\n",
    "                \n",
    "    arg_w = np.argmax(Ds)\n",
    "    for i in range(0, N+1):\n",
    "        if Ds[i] == Ds[arg_w] and i != arg_w:\n",
    "            if(fs[i] > fs[arg_w]):\n",
    "                arg_w = i;\n",
    "    \n",
    "    #mask the worst to find the second worst\n",
    "    Ds[arg_w] = 0\n",
    "    \n",
    "    arg_sw = np.argmax(Ds)\n",
    "    for i in range(0, N+1):\n",
    "        if Ds[i] == Ds[arg_sw] and i != arg_w:\n",
    "            if(fs[i] > fs[arg_sw]):\n",
    "                arg_sw = i;\n",
    "    \n",
    "    return arg_b,arg_w,arg_sw"
   ]
  },
  {
   "cell_type": "code",
   "execution_count": 6,
   "id": "2ab6e3da",
   "metadata": {},
   "outputs": [],
   "source": [
    "def centroid(s,argWorst):\n",
    "    return np.mean(np.delete(s, argWorst), axis = 0)"
   ]
  },
  {
   "cell_type": "code",
   "execution_count": 7,
   "id": "10ac5834",
   "metadata": {},
   "outputs": [],
   "source": [
    "def SimplexLocalSearch(Epsilon,Lambda,M,Alpha=1,Gamma=2,Beta=-0.5):\n",
    "    s = np.empty([N+1,N])\n",
    "    s[0] = x\n",
    "    for j in range(1,N+1):\n",
    "        s[j] = x + Lambda*(u[j-1]-l[j-1])*_e(j-1,N);\n",
    "    k = 0\n",
    "    \n",
    "    \n",
    "    argBest, argWorst, argSecondWorst = findExtremes(s)\n",
    "    sBest, sWorst, sSecondWorst = s[argBest], s[argWorst], s[argSecondWorst]\n",
    "    #set_trace()\n",
    "    while abs(f(sBest) - f(sWorst)) > Epsilon and k < M:\n",
    "        #set_trace()\n",
    "        if(k%10000 == 0):print(f(sBest),'\\n')\n",
    "        r = (1+Alpha)*centroid(s,argWorst) - Alpha*sWorst\n",
    "        if(better(sBest,r) and better(r,sSecondWorst)):\n",
    "            sWorst = r\n",
    "        elif(better(r,sBest)):\n",
    "            e = (1+Gamma)*centroid(s,argWorst)-Gamma*sWorst\n",
    "            if(better(e,r)):\n",
    "                sWorst = e\n",
    "            else:\n",
    "                sWorst = r\n",
    "        elif(better(sSecondWorst,r)):\n",
    "            c = (1+Beta)*centroid(s,argWorst)-Beta*sWorst\n",
    "            if(better(c,sWorst)):\n",
    "                sWorst = c\n",
    "            else:\n",
    "                for j in range(0,N+1):\n",
    "                    s[j] = (s[j] + sBest)/2\n",
    "\n",
    "        for j in range(0,N+1):\n",
    "            if(j == argBest):\n",
    "                s[j] = sBest\n",
    "            elif(j == argWorst):\n",
    "                s[j] = sWorst\n",
    "            elif(j == argSecondWorst):\n",
    "                s[j] = sSecondWorst\n",
    "        \n",
    "        \n",
    "        #set_trace()\n",
    "        argBest, argWorst, argSecondWorst = findExtremes(s)\n",
    "        sBest, sWorst, sSecondWorst = s[argBest], s[argWorst], s[argSecondWorst]\n",
    "        k = k + 1\n",
    "    return sBest"
   ]
  },
  {
   "cell_type": "code",
   "execution_count": 8,
   "id": "c6bea64c",
   "metadata": {},
   "outputs": [],
   "source": [
    "def Simplex(Epsilon, Lambda, M):\n",
    "    '''read problem data'''\n",
    "    xBest = SimplexLocalSearch(Epsilon, Lambda,M);\n",
    "    return xBest"
   ]
  },
  {
   "cell_type": "code",
   "execution_count": null,
   "id": "4483efe3",
   "metadata": {
    "scrolled": false
   },
   "outputs": [
    {
     "name": "stdout",
     "output_type": "stream",
     "text": [
      "620284.6447937032 \n",
      "\n",
      "71466.09681660782 \n",
      "\n"
     ]
    }
   ],
   "source": [
    "Lambda = 1\n",
    "M = 100000\n",
    "Epsilon = 0\n",
    "print(Simplex(Epsilon,Lambda,M))"
   ]
  },
  {
   "cell_type": "code",
   "execution_count": null,
   "id": "56e974f8",
   "metadata": {},
   "outputs": [],
   "source": []
  },
  {
   "cell_type": "code",
   "execution_count": null,
   "id": "d13dec25",
   "metadata": {},
   "outputs": [],
   "source": []
  },
  {
   "cell_type": "code",
   "execution_count": null,
   "id": "a6fc9001",
   "metadata": {},
   "outputs": [],
   "source": []
  }
 ],
 "metadata": {
  "kernelspec": {
   "display_name": "Python 3 (ipykernel)",
   "language": "python",
   "name": "python3"
  },
  "language_info": {
   "codemirror_mode": {
    "name": "ipython",
    "version": 3
   },
   "file_extension": ".py",
   "mimetype": "text/x-python",
   "name": "python",
   "nbconvert_exporter": "python",
   "pygments_lexer": "ipython3",
   "version": "3.8.10"
  }
 },
 "nbformat": 4,
 "nbformat_minor": 5
}
